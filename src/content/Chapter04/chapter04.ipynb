{
 "cells": [
  {
   "cell_type": "markdown",
   "metadata": {},
   "source": [
    "#  tensorBoard--可视化学习，以MNIST手写数字识别数据集为例"
   ]
  },
  {
   "cell_type": "markdown",
   "metadata": {},
   "source": [
    "### 1.下载MNIST数据集 "
   ]
  },
  {
   "cell_type": "code",
   "execution_count": 2,
   "metadata": {},
   "outputs": [
    {
     "name": "stdout",
     "output_type": "stream",
     "text": [
      "Extracting /tmp/data/train-images-idx3-ubyte.gz\n",
      "Extracting /tmp/data/train-labels-idx1-ubyte.gz\n",
      "Extracting /tmp/data/t10k-images-idx3-ubyte.gz\n",
      "Extracting /tmp/data/t10k-labels-idx1-ubyte.gz\n"
     ]
    }
   ],
   "source": [
    "import tensorflow as tf  #导入tensorflow模块                                                                                                                                                                                                               \n",
    "from tensorflow.examples.tutorials.mnist import input_data  #tensorflow中已经提供现成模块可用于下载并读取数据\n",
    "mnist_dataset = input_data.read_data_sets(\"/tmp/data/\", one_hot=True)  #one_hot编码，1个one_hot向量只有1位数是1，其他维数全都是0."
   ]
  },
  {
   "cell_type": "markdown",
   "metadata": {},
   "source": [
    "###  2.定义训练参数并输入模型"
   ]
  },
  {
   "cell_type": "code",
   "execution_count": 3,
   "metadata": {},
   "outputs": [],
   "source": [
    "learning_rate = 0.01  #学习率\n",
    "num_training_epochs = 25  #迭代25次\n",
    "train_batch_size = 100  #训练样本的样本个数\n",
    "display_epoch = 1      \n",
    "logs_path = '/tmp/tensorflow_tensorboard/'  #数据下载的路径\n",
    "input_values = tf.placeholder(tf.float32,[None,784],name='input_values')  #输入值，形状第一维项数不定，第二维784个项数。\n",
    "target_values = tf.placeholder(tf.float32,[None,10],name='target_values')  #目标值\n",
    "weights =tf.Variable(tf.zeros([784,10]),name='weights')  #权重\n",
    "biases =tf.Variable(tf.zeros([10]),name='biases')  #偏差值  生成1行10列全0矩阵"
   ]
  },
  {
   "cell_type": "markdown",
   "metadata": {},
   "source": [
    "### 3.定义损失函数"
   ]
  },
  {
   "cell_type": "code",
   "execution_count": 5,
   "metadata": {},
   "outputs": [],
   "source": [
    "#3.定义损失函数\n",
    "with tf.name_scope('Model'):  # 它的主要目的是为了更加方便地管理参数命名。\n",
    "    predicted_values = tf.nn.softmax(tf.matmul(input_values,weights)) + biases  #预测值\n",
    "with tf.name_scope('Loss'):\n",
    "    model_cost = tf.reduce_mean(tf.nn.softmax_cross_entropy_with_logits(logits=predicted_values,labels=target_values))  #损失模型,直接调用使用交叉熵训练法\n",
    "with tf.name_scope('SGD'):\n",
    "    model_optimizer = tf.train.GradientDescentOptimizer(learning_rate).minimize(model_cost)  #使用梯度下降法优化模型\n",
    "with tf.name_scope('Accuracy'):\n",
    "    model_accuracy = tf.equal(tf.argmax(predicted_values,1),tf.argmax(target_values,1))  #判断预测值和真实值是否相等，相等返回1，不等返回0.\n",
    "    model_accuracy = tf.reduce_mean(tf.cast(model_accuracy,tf.float32))  #tf.cast转换数据类型\n",
    "init = tf.global_variables_initializer() #初始化tensorflow gloal变量"
   ]
  },
  {
   "cell_type": "code",
   "execution_count": 6,
   "metadata": {},
   "outputs": [
    {
     "name": "stdout",
     "output_type": "stream",
     "text": [
      "INFO:tensorflow:Summary name model loss is illegal; using model_loss instead.\n",
      "INFO:tensorflow:Summary name model accuracy is illegal; using model_accuracy instead.\n"
     ]
    }
   ],
   "source": [
    "tf.summary.scalar('model loss',model_cost)  #对标量数据汇总和记录使用\n",
    "tf.summary.scalar('model accuracy',model_accuracy)\n",
    "merged_summary_operation = tf.summary.merge_all()"
   ]
  },
  {
   "cell_type": "markdown",
   "metadata": {},
   "source": [
    "### 4.定义会话并输出结果"
   ]
  },
  {
   "cell_type": "code",
   "execution_count": 7,
   "metadata": {},
   "outputs": [
    {
     "name": "stdout",
     "output_type": "stream",
     "text": [
      "Epoch: 001 cost= 2.250371679\n",
      "Epoch: 002 cost= 2.091732949\n",
      "Epoch: 003 cost= 1.960212840\n",
      "Epoch: 004 cost= 1.882646561\n",
      "Epoch: 005 cost= 1.833850788\n",
      "Epoch: 006 cost= 1.801827587\n",
      "Epoch: 007 cost= 1.779734955\n",
      "Epoch: 008 cost= 1.763468241\n",
      "Epoch: 009 cost= 1.750940601\n",
      "Epoch: 010 cost= 1.740937850\n",
      "Epoch: 011 cost= 1.732734323\n",
      "Epoch: 012 cost= 1.725847443\n",
      "Epoch: 013 cost= 1.719974984\n",
      "Epoch: 014 cost= 1.714881604\n",
      "Epoch: 015 cost= 1.710406746\n",
      "Epoch: 016 cost= 1.706438520\n",
      "Epoch: 017 cost= 1.702880976\n",
      "Epoch: 018 cost= 1.699663615\n",
      "Epoch: 019 cost= 1.696721135\n",
      "Epoch: 020 cost= 1.694013688\n",
      "Epoch: 021 cost= 1.691496699\n",
      "Epoch: 022 cost= 1.689108889\n",
      "Epoch: 023 cost= 1.686783923\n",
      "Epoch: 024 cost= 1.684409949\n",
      "Epoch: 025 cost= 1.681657583\n",
      "Optimization Finished!\n",
      "Accuracy: 0.8322\n",
      "To view summaries in the Tensorboard,run the command line:\n",
      "--> tensorboard.exe --logdir=/tmp/tensorflow_tensorboard\n",
      "Then open http://localhost:6006/ into your web browser\n"
     ]
    }
   ],
   "source": [
    "with tf.Session() as sess:\n",
    "    sess.run(init)\n",
    "    summary_writer = tf.summary.FileWriter(logs_path,graph=tf.get_default_graph()) #使用程序代码将要显示在tensorboard的计算图写入log文件\n",
    "    for train_epoch in range(num_training_epochs):\n",
    "        average_cost = 0\n",
    "        total_num_batch = int(mnist_dataset.train.num_examples/train_batch_size) #计算每个训练周期，所需执行的批次=训练数据项数6000/每一批次项数1000\n",
    "        for i in range(total_num_batch):\n",
    "            batch_xs,batch_ys = mnist_dataset.train.next_batch(train_batch_size)  #读取批次数据\n",
    "            _, c,summary = sess.run([model_optimizer,model_cost,merged_summary_operation],\n",
    "            feed_dict = {input_values:batch_xs,target_values:batch_ys})   #see.run计算准确率，并通过feed_dict把数据传给两个占位符。\n",
    "            summary_writer.add_summary(summary,train_epoch * total_num_batch + i)\n",
    "            average_cost  += c / total_num_batch  #相加返回前一个变量\n",
    "        if (train_epoch+1) % display_epoch == 0:  #求余运算，为了将25次的迭代结果全部显示\n",
    "            print(\"Epoch:\", '%03d' % (train_epoch+1), \"cost=\", \"{:.9f}\".format(average_cost)) #定义打印出来的格式。\n",
    "    print(\"Optimization Finished!\")\n",
    "    print(\"Accuracy:\",model_accuracy.eval({input_values:mnist_dataset.test.images,target_values:mnist_dataset.test.labels}))\n",
    "    print(\"To view summaries in the Tensorboard,run the command line:\\n\"\\\n",
    "              \"--> tensorboard.exe --logdir=/tmp/tensorflow_tensorboard\"\\\n",
    "              \"\\nThen open http://localhost:6006/ into your web browser\")"
   ]
  },
  {
   "cell_type": "code",
   "execution_count": null,
   "metadata": {},
   "outputs": [],
   "source": []
  }
 ],
 "metadata": {
  "kernelspec": {
   "display_name": "Python 3",
   "language": "python",
   "name": "python3"
  },
  "language_info": {
   "codemirror_mode": {
    "name": "ipython",
    "version": 3
   },
   "file_extension": ".py",
   "mimetype": "text/x-python",
   "name": "python",
   "nbconvert_exporter": "python",
   "pygments_lexer": "ipython3",
   "version": "3.5.5"
  }
 },
 "nbformat": 4,
 "nbformat_minor": 2
}
