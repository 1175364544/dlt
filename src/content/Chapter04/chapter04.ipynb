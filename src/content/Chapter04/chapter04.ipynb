#tensorflow--可视化学习，以MNIST手写数字识别数据集为例
#MNIST数据集共有训练数据6000项，测试数据1000项。MNIST数据都有images(数字图像)与labels(真实的数字)组成。
#1.下载MNIST数据集 
import tensorflow as tf  #导入tensorflow模块                                                                                                                                                                                                               
from tensorflow.examples.tutorials.mnist import input_data  #tensorflow中已经提供现成模块可用于下载并读取数据
mnist_dataset = input_data.read_data_sets("/tmp/data/", one_hot=True)  #one_hot编码，1个one_hot向量只有1位数是1，其他维数全都是0.
