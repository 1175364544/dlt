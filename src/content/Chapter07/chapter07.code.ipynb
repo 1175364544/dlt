{
 "cells": [
  {
   "cell_type": "code",
   "execution_count": 1,
   "metadata": {},
   "outputs": [
    {
     "name": "stderr",
     "output_type": "stream",
     "text": [
      "D:\\Program\\Anaconda\\Anaconda3\\envs\\tensorflow-gpu\\lib\\site-packages\\h5py\\__init__.py:34: FutureWarning: Conversion of the second argument of issubdtype from `float` to `np.floating` is deprecated. In future, it will be treated as `np.float64 == np.dtype(float).type`.\n",
      "  from ._conv import register_converters as _register_converters\n"
     ]
    },
    {
     "name": "stdout",
     "output_type": "stream",
     "text": [
      "Extracting data/MNIST\\train-images-idx3-ubyte.gz\n",
      "Extracting data/MNIST\\train-labels-idx1-ubyte.gz\n",
      "Extracting data/MNIST\\t10k-images-idx3-ubyte.gz\n",
      "Extracting data/MNIST\\t10k-labels-idx1-ubyte.gz\n"
     ]
    }
   ],
   "source": [
    "import matplotlib.pyplot as plt\n",
    "import tensorflow as tf\n",
    "import numpy as np\n",
    "from sklearn.metrics import confusion_matrix\n",
    "import math\n",
    "from tensorflow.examples.tutorials.mnist import input_data\n",
    "mnist = input_data.read_data_sets('data/MNIST',one_hot=True)"
   ]
  },
  {
   "cell_type": "code",
   "execution_count": 2,
   "metadata": {},
   "outputs": [
    {
     "name": "stdout",
     "output_type": "stream",
     "text": [
      "- Number of images in the training set:\t\t55000\n",
      "- Number of images in the test sets:\t\t10000\n",
      "- Number of images in the validation set:\t\t5000\n"
     ]
    }
   ],
   "source": [
    "print('- Number of images in the training set:\\t\\t{}'.format(len(mnist.train.labels)))\n",
    "print('- Number of images in the test sets:\\t\\t{}'.format(len(mnist.test.labels)))\n",
    "print('- Number of images in the validation set:\\t\\t{}'.format(len(mnist.validation.labels)))"
   ]
  },
  {
   "cell_type": "code",
   "execution_count": 3,
   "metadata": {
    "collapsed": true
   },
   "outputs": [],
   "source": [
    "mnist.test.cls_integer = np.argmax(mnist.test.labels,axis=1)"
   ]
  },
  {
   "cell_type": "code",
   "execution_count": 4,
   "metadata": {
    "collapsed": true
   },
   "outputs": [],
   "source": [
    "image_size = 28\n",
    "image_size_flat = image_size*image_size\n",
    "image_shape = (image_size,image_size)\n",
    "num_channel = 1\n",
    "num_classes = 10\n",
    "filter_size_1 = 5\n",
    "filters_1 = 16\n",
    "filter_size_2 = 5\n",
    "filters_2 = 36\n",
    "fc_num_neurons = 128"
   ]
  },
  {
   "cell_type": "code",
   "execution_count": 5,
   "metadata": {
    "collapsed": true
   },
   "outputs": [],
   "source": [
    "def plot_imgs(imgs,cls_actual,cls_predicted=None):\n",
    "    assert len(imgs) == len(cls_actual) == 9\n",
    "    fig,axes = plt.subplots(3,3)\n",
    "    fig.subplots_adjust(hspace=0.3,wspace=0.3)\n",
    "    for i,ax in enumerate(axes.flat):\n",
    "        ax.imshow(imgs[i].reshape(image_shape),cmap='binary')\n",
    "    if cls_predicted is None:\n",
    "        xlabel = 'True:{0}'.format(cls_actual[i])\n",
    "    else:\n",
    "        xlabel = 'True:{0},Pred:{1}'.format(cls_actual[i],cls_predicted[i])\n",
    "    ax.set_xticks([]);ax.set_yticks([])\n",
    "    ax.set_xlabel(xlabel)\n",
    "    plt.show()"
   ]
  },
  {
   "cell_type": "code",
   "execution_count": 6,
   "metadata": {},
   "outputs": [
    {
     "data": {
      "image/png": "[encoded data removed]",
      "text/plain": [
       "<matplotlib.figure.Figure at 0x1a81a296b70>"
      ]
     },
     "metadata": {},
     "output_type": "display_data"
    }
   ],
   "source": [
    "imgs = mnist.test.images[0:9]\n",
    "cls_actual = mnist.test.cls_integer[0:9]\n",
    "plot_imgs(imgs=imgs,cls_actual=cls_actual)"
   ]
  },
  {
   "cell_type": "code",
   "execution_count": 7,
   "metadata": {
    "collapsed": true
   },
   "outputs": [],
   "source": [
    "def new_weights(shape):\n",
    "    return tf.Variable(tf.truncated_normal(shape,stddev=0.05))\n",
    "\n",
    "def new_biases(length):\n",
    "    return tf.Variable(tf.constant(0.05,shape=[length]))\n",
    "\n",
    "def conv_layer(input,input_channels,filter_size,filters,use_pooling=True):\n",
    "    shape = [filter_size,filter_size,input_channels,filters]\n",
    "    filters_weights = new_weights(shape=shape)\n",
    "    filters_biases = new_biases(length=filters)\n",
    "    \n",
    "    conv_layer = tf.nn.conv2d(input=input,\n",
    "                              filter=filters_weights,\n",
    "                              strides=[1, 1, 1, 1],\n",
    "                              padding='SAME')\n",
    "    conv_layer += filters_biases\n",
    "    if use_pooling:\n",
    "        pool_layer = tf.nn.max_pool(value=conv_layer,\n",
    "                                    ksize=[1,2,2,1],\n",
    "                                    strides=[1,2,2,1],\n",
    "                                    padding='SAME')\n",
    "    relu_layer = tf.nn.relu(pool_layer)\n",
    "    return relu_layer,filters_weights"
   ]
  },
  {
   "cell_type": "code",
   "execution_count": 8,
   "metadata": {
    "collapsed": true
   },
   "outputs": [],
   "source": [
    "def flatten_layer(layer):\n",
    "    shape = layer.get_shape()\n",
    "    number_features = shape[1:4].num_elements()\n",
    "    flatten_layer = tf.reshape(layer,[-1,number_features])\n",
    "    return flatten_layer,number_features"
   ]
  },
  {
   "cell_type": "code",
   "execution_count": 9,
   "metadata": {
    "collapsed": true
   },
   "outputs": [],
   "source": [
    "def fc_layer(input,num_inputs,num_outputs,use_relu=True):\n",
    "    fc_weights = new_weights(shape=[num_inputs,num_outputs])\n",
    "    fc_biases = new_biases(length=num_outputs)\n",
    "    fc_layer = tf.matmul(input,fc_weights) + fc_biases\n",
    "    if use_relu:\n",
    "        relu_layer = tf.nn.relu(fc_layer)\n",
    "        return relu_layer\n",
    "    return fc_layer"
   ]
  },
  {
   "cell_type": "code",
   "execution_count": 10,
   "metadata": {
    "collapsed": true
   },
   "outputs": [],
   "source": [
    "input_values = tf.placeholder(tf.float32,shape=[None,image_size_flat])\n",
    "input_image = tf.reshape(input_values,[-1,image_size,image_size,num_channel])\n",
    "y_actual = tf.placeholder(tf.float32,shape=[None,num_classes],name='y_actual')\n",
    "y_actual_cls_integer = tf.argmax(y_actual,axis=1)\n",
    "conv_layer_1,conv1_weights = conv_layer(input=input_image,\n",
    "                                        input_channels=num_channel,\n",
    "                                        filter_size = filter_size_1,\n",
    "                                        filters=filters_1,\n",
    "                                        use_pooling=True)\n"
   ]
  },
  {
   "cell_type": "code",
   "execution_count": 11,
   "metadata": {},
   "outputs": [
    {
     "data": {
      "text/plain": [
       "<tf.Tensor 'Relu:0' shape=(?, 14, 14, 16) dtype=float32>"
      ]
     },
     "execution_count": 11,
     "metadata": {},
     "output_type": "execute_result"
    }
   ],
   "source": [
    "conv_layer_1"
   ]
  },
  {
   "cell_type": "code",
   "execution_count": 12,
   "metadata": {
    "collapsed": true
   },
   "outputs": [],
   "source": [
    "conv_layer_2,conv2_weights = conv_layer(input =conv_layer_1,\n",
    "                                        input_channels=filters_1,\n",
    "                                        filter_size=filter_size_2,\n",
    "                                        filters = filters_2,\n",
    "                                        use_pooling=True)"
   ]
  },
  {
   "cell_type": "code",
   "execution_count": 13,
   "metadata": {},
   "outputs": [
    {
     "data": {
      "text/plain": [
       "<tf.Tensor 'Relu_1:0' shape=(?, 7, 7, 36) dtype=float32>"
      ]
     },
     "execution_count": 13,
     "metadata": {},
     "output_type": "execute_result"
    }
   ],
   "source": [
    "conv_layer_2"
   ]
  },
  {
   "cell_type": "code",
   "execution_count": 14,
   "metadata": {
    "collapsed": true
   },
   "outputs": [],
   "source": [
    "flatten_layer,number_features = flatten_layer(conv_layer_2)"
   ]
  },
  {
   "cell_type": "code",
   "execution_count": 15,
   "metadata": {},
   "outputs": [
    {
     "data": {
      "text/plain": [
       "<tf.Tensor 'Reshape_1:0' shape=(?, 1764) dtype=float32>"
      ]
     },
     "execution_count": 15,
     "metadata": {},
     "output_type": "execute_result"
    }
   ],
   "source": [
    "flatten_layer"
   ]
  },
  {
   "cell_type": "code",
   "execution_count": 16,
   "metadata": {
    "collapsed": true
   },
   "outputs": [],
   "source": [
    "fc_layer_1 = fc_layer(input = flatten_layer,\n",
    "                      num_inputs = number_features,\n",
    "                      num_outputs=fc_num_neurons,\n",
    "                      use_relu =True)"
   ]
  },
  {
   "cell_type": "code",
   "execution_count": 17,
   "metadata": {},
   "outputs": [
    {
     "data": {
      "text/plain": [
       "<tf.Tensor 'Relu_2:0' shape=(?, 128) dtype=float32>"
      ]
     },
     "execution_count": 17,
     "metadata": {},
     "output_type": "execute_result"
    }
   ],
   "source": [
    "fc_layer_1"
   ]
  },
  {
   "cell_type": "code",
   "execution_count": 18,
   "metadata": {
    "collapsed": true
   },
   "outputs": [],
   "source": [
    "fc_layer_2 = fc_layer(input=fc_layer_1,\n",
    "                      num_inputs = fc_num_neurons,\n",
    "                      num_outputs=num_classes,\n",
    "                      use_relu = False)"
   ]
  },
  {
   "cell_type": "code",
   "execution_count": 19,
   "metadata": {},
   "outputs": [
    {
     "data": {
      "text/plain": [
       "<tf.Tensor 'add_3:0' shape=(?, 10) dtype=float32>"
      ]
     },
     "execution_count": 19,
     "metadata": {},
     "output_type": "execute_result"
    }
   ],
   "source": [
    "fc_layer_2"
   ]
  },
  {
   "cell_type": "code",
   "execution_count": 20,
   "metadata": {
    "collapsed": true
   },
   "outputs": [],
   "source": [
    "y_predicted = tf.nn.softmax(fc_layer_2)"
   ]
  },
  {
   "cell_type": "code",
   "execution_count": 21,
   "metadata": {
    "collapsed": true
   },
   "outputs": [],
   "source": [
    "y_predicted_cls_integer = tf.argmax(y_predicted,axis =1)"
   ]
  },
  {
   "cell_type": "code",
   "execution_count": 22,
   "metadata": {},
   "outputs": [
    {
     "name": "stdout",
     "output_type": "stream",
     "text": [
      "WARNING:tensorflow:From <ipython-input-22-f17636ccc1c4>:2: softmax_cross_entropy_with_logits (from tensorflow.python.ops.nn_ops) is deprecated and will be removed in a future version.\n",
      "Instructions for updating:\n",
      "\n",
      "Future major versions of TensorFlow will allow gradients to flow\n",
      "into the labels input on backprop by default.\n",
      "\n",
      "See tf.nn.softmax_cross_entropy_with_logits_v2.\n",
      "\n"
     ]
    }
   ],
   "source": [
    "cross_entropy = tf.nn.softmax_cross_entropy_with_logits(logits=fc_layer_2,\n",
    "                                                        labels=y_actual)"
   ]
  },
  {
   "cell_type": "code",
   "execution_count": 23,
   "metadata": {
    "collapsed": true
   },
   "outputs": [],
   "source": [
    "model_cost = tf.reduce_mean(cross_entropy)"
   ]
  },
  {
   "cell_type": "code",
   "execution_count": 24,
   "metadata": {
    "collapsed": true
   },
   "outputs": [],
   "source": [
    "model_optimizer = tf.train.AdamOptimizer(learning_rate=1e-4).minimize(model_cost)"
   ]
  },
  {
   "cell_type": "code",
   "execution_count": 25,
   "metadata": {
    "collapsed": true
   },
   "outputs": [],
   "source": [
    "model_correct_prediction = tf.equal(y_predicted_cls_integer,y_actual_cls_integer)"
   ]
  },
  {
   "cell_type": "code",
   "execution_count": 26,
   "metadata": {
    "collapsed": true
   },
   "outputs": [],
   "source": [
    "model_accuracy = tf.reduce_mean(tf.cast(model_correct_prediction,tf.float32))"
   ]
  },
  {
   "cell_type": "code",
   "execution_count": 27,
   "metadata": {
    "collapsed": true
   },
   "outputs": [],
   "source": [
    "session = tf.Session()"
   ]
  },
  {
   "cell_type": "code",
   "execution_count": 28,
   "metadata": {
    "collapsed": true
   },
   "outputs": [],
   "source": [
    "session.run(tf.global_variables_initializer())"
   ]
  },
  {
   "cell_type": "code",
   "execution_count": 29,
   "metadata": {
    "collapsed": true
   },
   "outputs": [],
   "source": [
    "train_batch_size = 64"
   ]
  },
  {
   "cell_type": "code",
   "execution_count": 30,
   "metadata": {
    "collapsed": true
   },
   "outputs": [],
   "source": [
    "total_iterations = 0"
   ]
  },
  {
   "cell_type": "code",
   "execution_count": 31,
   "metadata": {
    "collapsed": true
   },
   "outputs": [],
   "source": [
    "def optimize(num_iterations):\n",
    "    global total_iterations\n",
    "    for i in range(total_iterations,total_iterations+num_iterations):\n",
    "        input_batch,y_actual_batch = mnist.train.next_batch(train_batch_size)\n",
    "        feed_dict = {input_values:input_batch,\n",
    "                     y_actual : y_actual_batch}\n",
    "        session.run(model_optimizer,feed_dict=feed_dict)\n",
    "        if i%100 ==0:\n",
    "            acc_training_set = session.run(model_accuracy,feed_dict=feed_dict)\n",
    "            print('Iteration:{0:>6},Accuracy Over the training set:{1:>6.1%}'.\\\n",
    "                  format(i + 1,acc_training_set))\n",
    "    total_iterations += num_iterations"
   ]
  },
  {
   "cell_type": "code",
   "execution_count": 32,
   "metadata": {
    "collapsed": true
   },
   "outputs": [],
   "source": [
    "def plot_errors(cls_predicted,correct):\n",
    "    incorrect = (correct==False)\n",
    "    images = mnist.test.images[incorrect]\n",
    "    cls_pred = cls_predicted[incorrect]\n",
    "    cls_true = mnist.test.cls_integer[incorrect]\n",
    "    plot_imgs(imgs=imgs[0:9],\n",
    "             cls_actual = cls_actual[0:9],\n",
    "             cls_predicted = cls_predicted[0:9])"
   ]
  },
  {
   "cell_type": "code",
   "execution_count": 33,
   "metadata": {
    "collapsed": true
   },
   "outputs": [],
   "source": [
    "def plot_confusionMatrix(cls_predicted):\n",
    "    cls_actual = mnist.test.cls_integer\n",
    "    conf_matrix = confusion_matrix(y_true=cls_actual,\n",
    "                                  y_pred=cls_predicted)\n",
    "    print(conf_matrix)\n",
    "    plt.matshow(conf_matrix)\n",
    "    plt.colorbar()\n",
    "    tick_marks = np.arange(num_classes)\n",
    "    plt.xticks(tick_marks,range(num_classes))\n",
    "    plt.yticks(tick_marks,range(num_classes))\n",
    "    plt.xlabel('Predicted class')\n",
    "    plt.ylabel('True class')\n",
    "    plt.show()"
   ]
  },
  {
   "cell_type": "code",
   "execution_count": 34,
   "metadata": {
    "collapsed": true
   },
   "outputs": [],
   "source": [
    "test_batch_size = 256"
   ]
  },
  {
   "cell_type": "code",
   "execution_count": 35,
   "metadata": {
    "collapsed": true
   },
   "outputs": [],
   "source": [
    "def test_accuracy(show_errors = False,show_confusionMatrix=False):\n",
    "    number_test = len(mnist.test.images)\n",
    "    cls_predicted = np.zeros(shape=number_test,dtype=np.int)\n",
    "    i = 0\n",
    "    while i < number_test:\n",
    "        j = min(i + test_batch_size,number_test)\n",
    "        input_images = mnist.test.images[i:j,:]\n",
    "        actual_labels = mnist.test.labels[i:j,:]\n",
    "        feed_dict = {input_values:input_images,\n",
    "                    y_actual:actual_labels}\n",
    "        cls_predicted[i:j] = session.run(y_predicted_cls_integer,feed_dict=feed_dict)\n",
    "        i = j\n",
    "    cls_actual = mnist.test.cls_integer\n",
    "    correct = (cls_actual ==cls_predicted)\n",
    "    correct_number_images = correct.sum()\n",
    "    testset_accuracy = float(correct_number_images)/number_test\n",
    "    print('Accuracy on Test_Set:{0:1%} ({1}/{2})'.format(testset_accuracy,correct_number_images,number_test))\n",
    "    if show_errors:\n",
    "        print('Example errors:')\n",
    "        plot_errors(cls_predicted=cls_predicted,correct=correct)\n",
    "    if show_confusionMatrix:\n",
    "        print('Confusion Matrix:')\n",
    "        plot_confusionMatrix(cls_predicted=cls_predicted)"
   ]
  },
  {
   "cell_type": "code",
   "execution_count": null,
   "metadata": {},
   "outputs": [
    {
     "name": "stdout",
     "output_type": "stream",
     "text": [
      "Accuracy on Test_Set:10.180000% (1018/10000)\n"
     ]
    }
   ],
   "source": [
    "test_accuracy()"
   ]
  },
  {
   "cell_type": "code",
   "execution_count": null,
   "metadata": {},
   "outputs": [
    {
     "name": "stdout",
     "output_type": "stream",
     "text": [
      "Iteration:     1,Accuracy Over the training set:  6.2%\n",
      "Iteration:   101,Accuracy Over the training set: 54.7%\n",
      "Iteration:   201,Accuracy Over the training set: 85.9%\n",
      "Iteration:   301,Accuracy Over the training set: 87.5%\n",
      "Iteration:   401,Accuracy Over the training set: 82.8%\n",
      "Iteration:   501,Accuracy Over the training set: 82.8%\n",
      "Iteration:   601,Accuracy Over the training set: 92.2%\n",
      "Iteration:   701,Accuracy Over the training set: 90.6%\n",
      "Iteration:   801,Accuracy Over the training set: 90.6%\n",
      "Iteration:   901,Accuracy Over the training set: 90.6%\n",
      "Iteration:  1001,Accuracy Over the training set: 89.1%\n",
      "Iteration:  1101,Accuracy Over the training set: 92.2%\n",
      "Iteration:  1201,Accuracy Over the training set: 95.3%\n",
      "Iteration:  1301,Accuracy Over the training set: 96.9%\n",
      "Iteration:  1401,Accuracy Over the training set: 93.8%\n",
      "Iteration:  1501,Accuracy Over the training set: 93.8%\n",
      "Iteration:  1601,Accuracy Over the training set: 89.1%\n",
      "Iteration:  1701,Accuracy Over the training set: 93.8%\n",
      "Iteration:  1801,Accuracy Over the training set: 98.4%\n",
      "Iteration:  1901,Accuracy Over the training set: 98.4%\n",
      "Iteration:  2001,Accuracy Over the training set: 95.3%\n",
      "Iteration:  2101,Accuracy Over the training set: 98.4%\n",
      "Iteration:  2201,Accuracy Over the training set: 92.2%\n",
      "Iteration:  2301,Accuracy Over the training set: 96.9%\n",
      "Iteration:  2401,Accuracy Over the training set: 96.9%\n",
      "Iteration:  2501,Accuracy Over the training set: 95.3%\n",
      "Iteration:  2601,Accuracy Over the training set: 96.9%\n",
      "Iteration:  2701,Accuracy Over the training set: 96.9%\n",
      "Iteration:  2801,Accuracy Over the training set: 93.8%\n",
      "Iteration:  2901,Accuracy Over the training set: 96.9%\n",
      "Iteration:  3001,Accuracy Over the training set: 96.9%\n",
      "Iteration:  3101,Accuracy Over the training set: 98.4%\n",
      "Iteration:  3201,Accuracy Over the training set:100.0%\n",
      "Iteration:  3301,Accuracy Over the training set:100.0%\n",
      "Iteration:  3401,Accuracy Over the training set: 96.9%\n",
      "Iteration:  3501,Accuracy Over the training set:100.0%\n",
      "Iteration:  3601,Accuracy Over the training set: 95.3%\n",
      "Iteration:  3701,Accuracy Over the training set: 95.3%\n",
      "Iteration:  3801,Accuracy Over the training set: 98.4%\n"
     ]
    }
   ],
   "source": [
    "optimize(num_iterations=9999)"
   ]
  },
  {
   "cell_type": "code",
   "execution_count": null,
   "metadata": {
    "collapsed": true
   },
   "outputs": [],
   "source": [
    "test_accuracy(show_errors=True,show_confusionMatrix=True)"
   ]
  },
  {
   "cell_type": "code",
   "execution_count": null,
   "metadata": {
    "collapsed": true
   },
   "outputs": [],
   "source": []
  },
  {
   "cell_type": "code",
   "execution_count": null,
   "metadata": {
    "collapsed": true
   },
   "outputs": [],
   "source": []
  },
  {
   "cell_type": "code",
   "execution_count": null,
   "metadata": {
    "collapsed": true
   },
   "outputs": [],
   "source": []
  },
  {
   "cell_type": "code",
   "execution_count": null,
   "metadata": {
    "collapsed": true
   },
   "outputs": [],
   "source": []
  }
 ],
 "metadata": {
  "kernelspec": {
   "display_name": "Python 3",
   "language": "python",
   "name": "python3"
  },
  "language_info": {
   "codemirror_mode": {
    "name": "ipython",
    "version": 3
   },
   "file_extension": ".py",
   "mimetype": "text/x-python",
   "name": "python",
   "nbconvert_exporter": "python",
   "pygments_lexer": "ipython3",
   "version": "3.5.3"
  }
 },
 "nbformat": 4,
 "nbformat_minor": 2
}
