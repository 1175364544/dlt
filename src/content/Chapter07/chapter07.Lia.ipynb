{
 "cells": [
  {
   "cell_type": "markdown",
   "metadata": {},
   "source": [
    "# 第07章 卷积神经网络"
   ]
  },
  {
   "cell_type": "markdown",
   "metadata": {},
   "source": [
    "在数据科学领域，卷积神经网络（Convolutional Neural Network）是一种特别的深度学习架构，它利用卷积运算来提取输入图像的相关解释特征。卷积神经网络是前向反馈的神经网络，尤其是当它在模仿人类识别物品时进行的卷积操作。人类的脑皮层会对特定接收域的刺激进行反应。在特殊情况下，生物医学成像问题有时很具有挑战性，但在这一章，我们将会看到怎么使用卷积神经网络来识别图片中的图案。\n",
    "\n",
    "在本章节中将包含以下几个主题：\n",
    "- 卷积操作\n",
    "- 诱因\n",
    "- 卷积神经网络的不同层\n",
    "- 卷积神经网络的基本案例：MNIST数字分类"
   ]
  },
  {
   "cell_type": "markdown",
   "metadata": {},
   "source": [
    "## 卷积操作"
   ]
  },
  {
   "cell_type": "markdown",
   "metadata": {},
   "source": [
    "卷积神经网络在计算机视觉领域已经被广泛的应用，它的性能优于我们所使用的大多数传统的计算机视觉技术。卷积神经网络将著名的卷积运算和神经网络相结合，因此被称为卷积神经网络。因此，在深入研究卷积神经网络的神经网络层之前，我们将介绍卷积运算，看看它是如何发挥作用的。\n",
    "\n",
    "卷积运算的主要目的是从图像中提取信息或特征。任何图像都可以被认为是一个矩阵，并且这个矩阵中的一组特定值将形成一个特征。卷积运算就是扫描这个矩阵，并试图提取该图像的相关解释性特征。例如，考虑下面这幅5乘5的图像，图片中相应的强度或像素值显示为0和1：\n",
    "\n",
    "<img src='./images/2018/10/9.1.png' style='float:center; width:190px;height:150px'/>\n",
    "\n",
    "并考虑以下这个3 \\* 3的矩阵：\n",
    "\n",
    "<img src='./images/2018/10/9.2.png' style='float:center; width:150px;height:150px'/>\n",
    "\n",
    "我们可以使用3\\*3的矩阵将5\\*5矩阵表示的图像转换为下图所示：\n",
    "\n",
    "<img src='./images/2018/10/9.3.1.png' style='float:center; width:190px;height:150px'/>\n",
    "\n",
    "<img src='./images/2018/10/9.3.2.png' style='float:center; width:190px;height:150px'/>\n",
    "\n",
    "<img src='./images/2018/10/9.3.3.png' style='float:center; width:190px;height:150px'/>\n",
    "\n",
    "<img src='./images/2018/10/9.3.4.png' style='float:center; width:190px;height:150px'/>\n",
    "\n",
    "<img src='./images/2018/10/9.3.5.png' style='float:center; width:190px;height:150px'/>\n",
    "\n",
    "<img src='./images/2018/10/9.3.6.png' style='float:center; width:190px;height:150px'/>\n",
    "\n",
    "<img src='./images/2018/10/9.3.7.png' style='float:center; width:190px;height:150px'/>\n",
    "\n",
    "<img src='./images/2018/10/9.3.8.png' style='float:center; width:190px;height:150px'/>\n",
    "\n",
    "<img src='./images/2018/10/9.3.9.png' style='float:center; width:190px;height:150px'/>\n",
    "\n",
    "\n",
    "上述过程可归纳如下。为了使用这个3\\*3的卷积核将原始的5\\*5的图片进行卷积，我们需要做以下工作：\n",
    "\n",
    "- 用橙色矩阵扫描原始绿色图像，每次仅移动1个像素(步幅)\n",
    "- 对于橙色图像的每个位置，我们在橙色矩阵和绿色矩阵中相应的像素值之间进行元素相乘（点乘）\n",
    "- 将这些按元素进行的乘法运算的结果相加到一起，它将在粉红色矩阵中输出。\n",
    "\n",
    "<img src='./images/2018/10/0001.gif' style='float:center; width:350px;height:300px'/>\n",
    "\n",
    "*从上面的图中可以看到，橙色3乘3的矩阵每次移动时只对原始绿色图像的一部分进行操作(步幅)，或者说一次只能看到一部分图像。*\n",
    "\n",
    "那么，我们就可以在卷积神经网络的背景之下,来看先前的解释：\n",
    "\n",
    "- 橙色的3\\*3的矩阵称为内核、特征检测器、滤镜\n",
    "- 包含元素乘法的结果输出的粉红矩阵称为特征映射。\n",
    "\n",
    "因为特征映射是通过内核与原始图片中相应的像素进行点乘并加和得到的，因此每次更改内核的值将产生不同的特征映射。\n",
    "\n",
    "所以，我们可以认为，在卷积神经网络的训练过程中，需要自己计算出特征检测器的值，但这里不是这样的。卷积神经网络在学习过程中会计算出这些数值。所以，如果我们有更多的滤波器，那就意味着我们能从图片上提取更多的特征。\n",
    "\n",
    "在进入下一个小节之前，我们先来介绍一些在卷积神经网络中使用到的术语：\n",
    "- 步幅（Stride）：之前我们有提到过。一般来说，步幅是指每次在输入的原始图像的像素矩阵上移动特征检测器的像素数。例如，步幅为1是指在进行卷积操作时每次将滤镜移动一个像素，而步幅为2是指进行卷积操作时每次将滤镜移动两个像素。步幅越大，生成的特征映射维数就越小。\n",
    "- 零填充（Zero-padding）：如果我们想要包含输入图像的边框像素，那么部分过滤器将在输入图像之外。而零填充就是在输入图片的边界周围填充零来解决这个问题。"
   ]
  },
  {
   "cell_type": "markdown",
   "metadata": {},
   "source": [
    "## 诱因"
   ]
  },
  {
   "cell_type": "markdown",
   "metadata": {},
   "source": [
    "大多数计算机视觉任务使用传统的计算机视觉技术来完成，如目标检测和分割。这些技术也一直表现得很好，但是却没有被实时使用，例如在自动驾驶汽车方面。2012年，Alex Krizhevsky介绍了卷积神经网络，并在ImageNet比赛中将目标分类误差从26%提高到15%。从此以后，卷积神经网络被广泛使用，并且已经有不同的变化。卷积神经网络在ImageNet竞争中甚至超越了人类的分类错误，下图是不同识别方法的错误率：\n",
    "\n",
    "<img src='./images/2018/10/9.4.png' style='float:center; width:400px;height:250px'/>\n"
   ]
  },
  {
   "cell_type": "markdown",
   "metadata": {},
   "source": [
    "### 卷积神经网络的应用"
   ]
  },
  {
   "cell_type": "markdown",
   "metadata": {},
   "source": [
    "自从卷积神经网络在计算机视觉、甚至是自然语言识别等不同的领域取得重大突破之后，大多数公司已经在他们的计算机视觉回波系统中使用深度学习。例如，Google将此架构用于图像搜索引擎，而Facebook将其用于自动标记等等：\n",
    "\n",
    "<img src='./images/2018/10/9.5.png' style='float:center; width:700px;height:270px'/>\n",
    "\n",
    "卷积神经网络能够实现这种突破性进展，是因为这种结构能直观地使用卷积运算从图像中提取特征。在接下来的内容中，你会发现它和人类大脑的工作方式非常相似。"
   ]
  },
  {
   "cell_type": "markdown",
   "metadata": {},
   "source": [
    "## 卷积神经网络的不同层"
   ]
  },
  {
   "cell_type": "markdown",
   "metadata": {},
   "source": [
    "一个典型的卷积神经网络体系结构由多个执行不同任务的层组成，如上面的图所示。在这一节，我们将会详细的了解卷积神经网络，也可以体会它以特殊方式将所有这些连接在计算机视觉中并取得突破的好处。"
   ]
  },
  {
   "cell_type": "markdown",
   "metadata": {},
   "source": [
    "### 输入层"
   ]
  },
  {
   "cell_type": "markdown",
   "metadata": {},
   "source": [
    "这是卷积神经网络架构中的第一层。后续所有的卷积层和池化层期望输入采用特定的格式。输入的变量将成为张量，其形式如下：\n",
    "\n",
    "```python\n",
    "[batch_size,image_width,image_height,channels]\n",
    "```\n",
    "\n",
    "在这里：\n",
    "- batch_size是在随机梯度下降过程中使用的原始训练集中的随机样本。\n",
    "- image_width是输入图片的宽度\n",
    "- image_height是输入图片的长度\n",
    "- channels是输入图片的颜色通道数，对于RGB来说是3，对于二进制图像来说是1\n",
    "\n",
    "例如，考虑我们著名的MNIST数据集。假设我们对这个数据集使用卷积神经网络执行数字分类。\n",
    "\n",
    "就像MNIST那样，如果数据集是由单色28\\*28像素的图片组成，那么我们的输入层所需的形式如下：\n",
    "\n",
    "```python\n",
    "[batch_size,28,28,1]\n",
    "```\n",
    "\n",
    "如果需要更改输入层的形式，可以执行以下操作：\n",
    "\n",
    "```python\n",
    "input_layer = tf.reshape(features['x'],[-1,28,28,1])\n",
    "```\n",
    "\n",
    "*把batch_size定义为-1，那也就意味着这个数字由输入的样本数量动态决定。通过这样做，我们能够通过控制batch_size来微调卷积神经网络*\n",
    "\n",
    "作为进行变化形状的例子，我们把输入的样本分成5个批次，而'x'将包含3920个跟输入的图片相应像素相关联的的值。对于这个MNIST，我们的输入层将是如下这种形状：\n",
    "\n",
    "```python\n",
    "[5,28,28,1]\n",
    "```"
   ]
  },
  {
   "cell_type": "markdown",
   "metadata": {},
   "source": [
    "### 卷积步骤"
   ]
  },
  {
   "cell_type": "markdown",
   "metadata": {},
   "source": [
    "如前所述，卷积步骤是从卷积运算中得到的。卷积步骤的主要目的就是从输入的图片中提取特征，然后将他们提供给线性分类器。\n",
    "\n",
    "在自然图像中，特征可以在图像中的任何地方出现。例如说，边际可能在图片的中间，也可能在角落，所以在卷积步骤中，堆叠一堆卷积步骤的目的就是为了能够从图片的任何地方去探测特征。\n",
    "\n",
    "在TensorFlow中，是很容易去定义一个卷积步骤的。例如，如果我们想用relu激活函数将大小为5\\*5的20个过滤器应用于输入层，那么我们可以使用下面的代码行来实现这一点：\n",
    "\n",
    "```python\n",
    "conv_layer1 = tf.layers.conv2d(inputs=input_layer,filters=20,kernel_size=[5,5],padding='same',activation=tf.nn.relu)\n",
    "```\n",
    "\n",
    "这个conv2d函数的第一个参数是我们在前面的代码中定义的输入层，它具有适当的形状，第二个参数是过滤器参数，它指要有多少个过滤器将被用来处理图片，其中，滤波器数目越多，从输入图像中提取的特征就越多。第三个参数是kernel_size，它表示滤波器或特征检测器的大小。至于我们在这里使用的填充参数'same'是给图片的边缘像素以0来进行填充。而最后一个参数就是在卷积操作最后输出时使用的激活函数。\n",
    "\n",
    "所以，在MNIST中，输入的张量是下面的这种格式：\n",
    "\n",
    "```python\n",
    "[batch_size,28,28,1]\n",
    "```\n",
    "\n",
    "然后，卷积操作之后输出的张量就是下面这种格式：\n",
    "\n",
    "```python\n",
    "[batch_size,28,28,20]\n",
    "```\n",
    "\n",
    "输出的张量跟输入的图片有相同的维度，但是因为我们用了20个滤镜来处理输入的图片，所以我们现在有了20个经过处理的图像。\n"
   ]
  },
  {
   "cell_type": "markdown",
   "metadata": {},
   "source": [
    "### 引入非线性的激活函数"
   ]
  },
  {
   "cell_type": "markdown",
   "metadata": {},
   "source": [
    "在卷积步骤中，我们之前讨论到将卷积步骤的输出提供给ReLU激活函数，所以我们接下来介绍非线性的激活函数。\n",
    "\n",
    "<img src='./images/2018/10/9.6.png' style='float:center; width:600px;height:220px'/>\n",
    "\n",
    "ReLU激活函数将会把像素值是负数的像素直接转换成0，将卷积输出结果提供给这个激活函数的目的就是在输出的图片中应用非线性激活函数，而这个非线性激活函数的所处理的数据对训练过程都是有好处的。为了能够清晰的显示ReLU激活函数的好处，我们可以看下面的图片，右侧的图片就是在左侧的基础上在行上进行卷积操作修复之后的版本：\n",
    "\n",
    "<img src='./images/2018/10/9.7.png' style='float:center; width:700px;height:300px'/>"
   ]
  },
  {
   "cell_type": "markdown",
   "metadata": {},
   "source": [
    "### 池化步骤"
   ]
  },
  {
   "cell_type": "markdown",
   "metadata": {},
   "source": [
    "深度学习过程的重要步骤之一是池化步骤，而池化步骤有时也被称为缩减像素采样步骤。这一步主要是为了降低特征映射输出的维数。池化步骤的优点就是在保留原始图像重要信息的前提下对输出的特征图像降低尺寸。\n",
    "\n",
    "在下面的图片中就是使用一个尺寸为2\\*2的滤镜并应用最大操作来筛选出来四个值中最大的那个，然后再移动两个像素。跟这个类似的池化操作叫做最大化池化：\n",
    "\n",
    "<img src='./images/2018/10/9.8.png' style='float:center; width:350px;height:350px'/>\n",
    "\n",
    "通过使用下面代码，我们可以将卷积步骤的输出连接到池化层：\n",
    "\n",
    "```python\n",
    "pool_layer1 = tf.layers.max_pooling2d(inputs=conv_layer1,pool_size=[2,2],strides=2)\n",
    "```\n",
    "\n",
    "池化层接收来自卷积步骤的输入，其形式如下：\n",
    "\n",
    "```python\n",
    "[batch_size ,image_width,image_height,channels]\n",
    "```\n",
    "\n",
    "例如说，在我们的数字识别任务中，池化层的输入将会是下面这种格式：\n",
    "\n",
    "```python\n",
    "[batch_size,28,28,20]\n",
    "```\n",
    "\n",
    "池化层输出的结果将会有下面这种结构：\n",
    "\n",
    "```python\n",
    "[batch_size,14,14,20]\n",
    "```\n",
    "\n",
    "在这个例子中，卷积操作输出结果的尺寸将被减少到原来的一半。这个步骤非常有用，因为它在减少模型复杂度的同时还保留了重要的信息，从而避免了过度拟合。\n"
   ]
  },
  {
   "cell_type": "markdown",
   "metadata": {},
   "source": [
    "### 全连通层"
   ]
  },
  {
   "cell_type": "markdown",
   "metadata": {},
   "source": [
    "在一系列的卷积和池化步骤之后，接下来的是一个完全连接的神经网络，我们从输入的图片中提取高标准的特征，然后将结果提供给完全连接的神经网络，然后在这个特征基础上做一些实际分类：\n",
    "\n",
    "<img src='./images/2018/10/9.9.png' style='float:center; width:500px;height:200px'/>\n",
    "\n",
    "例如，数字识别分类任务中，我们可以把完全连接的神经网络放在卷积、池化步骤之后，而完全连接的神经网络包含了1024个神经元以及ReLU激活函数来执行实际分类。这个神经网络接受的输入需要具有下面这种格式：\n",
    "\n",
    "```python\n",
    "[batch_size,features]\n",
    "```\n",
    "\n",
    "所以，我们需要重塑（展平）从池化层获取的特征图像来符合我们所需要的格式。我们可以使用下面的这行代码来重新修改池化层的结果：\n",
    "\n",
    "```python\n",
    "pool1_flat = tf.reshape(pool_layer1,[-1,14,14,20])\n",
    "```\n",
    "\n",
    "在这个重塑函数中，我们用-1来显示每一批次的样本数量将会动态决定，而且从池化层输出的每个样本都是14\\*14\\*20的尺寸。\n",
    "\n",
    "所以最后重塑之后的格式将会是下面这种\n",
    "\n",
    "```python\n",
    "[batch_size,3136]\n",
    "```\n",
    "\n",
    "最后，我们可以使用TensorFlow中的Dense函数定义我们的完全连接的神经网络，其中Dense包括所需的神经元数量(单位)和最终的激活函数：\n",
    "\n",
    "```python\n",
    "dense_layer = tf.layers.dense(inputs=pool1_flat,units=1024,activation = tf.nn.relu)\n",
    "```\n"
   ]
  },
  {
   "cell_type": "markdown",
   "metadata": {},
   "source": [
    "#### 逻辑层"
   ]
  },
  {
   "cell_type": "markdown",
   "metadata": {},
   "source": [
    "最后，我们需要逻辑层，这一层将使用完全连接层输出的结果生成原始的预测值。\n",
    "例如，在数字分类中，输出将是长度为10个的张量，其中每个值代表一个从0-9类的数。所以，我们为这个数字识别分类任务定义逻辑层，在这个层我们只需要10个结果，同时在Dense函数中使用TensorFlow默认的线性激活函数：\n",
    "\n",
    "\n",
    "```python\n",
    "logits_layer = tf.layers.dense(inputs = dense_layer,units=10)\n",
    "```\n",
    "\n",
    "<img src='./images/2018/10/9.10.png' style='float:center; width:600px;height:200px'/>\n",
    "\n",
    "逻辑层最后输出的结构将会是一个具有下面结构的张量矩阵：\n",
    "\n",
    "```python\n",
    "[batch_size,10]\n",
    "```\n",
    "\n",
    "在之前提到的，模型中的逻辑层将会返回一个原始的预测值。但是我们需要将这些值转换成可解释的格式：\n",
    "\n",
    "- 输入样本0-9的预测类\n",
    "- 每个可能类的分数或概率。例如，样本为0的概率是1，以此类推\n",
    "\n",
    "<img src='./images/2018/10/9.11.png' style='float:center; width:700px;height:350px'/>\n",
    "\n",
    "所以，我们预测的类将会是10个结果中具有最高概率值的那个类。我们可以使用argmax函数来得到这个具体的值：\n",
    "\n",
    "```python\n",
    "tf.argmax(input=logits_layer,axis=1)\n",
    "```\n",
    "\n",
    "logits_layer层具有下面这种结构：\n",
    "\n",
    "```python\n",
    "[batch_size,10]\n",
    "```\n",
    "\n",
    "所以，我们需要在预测的结果中找到最大值，而这是索引为1的维度。\n",
    "\n",
    "最后我们可以得到下一个值，它代表着目标类的最大概率，通过将sotfmax激活函数应用到logits_layer层得到的结果，这将把每一个值压缩在0或者1：\n",
    "\n",
    "```python\n",
    "tf.nn.softmax(logits_layer,name=\"softmax_tensor\")\n",
    "```\n"
   ]
  },
  {
   "cell_type": "markdown",
   "metadata": {},
   "source": [
    "## 卷积神经网络的基本例子--MNIST数字识别分类"
   ]
  },
  {
   "cell_type": "markdown",
   "metadata": {},
   "source": [
    "在这一节，我们借助MNIST数据集并使用卷积神经网络来做一个完整的数字分类识别。我们将会创建一个具有两层卷积层和完全连接的神经网络层的模型。\n",
    "\n",
    "我们先导入在这个实例中使用到的库：\n"
   ]
  },
  {
   "cell_type": "code",
   "execution_count": 1,
   "metadata": {},
   "outputs": [
    {
     "name": "stderr",
     "output_type": "stream",
     "text": [
      "D:\\Program\\Anaconda\\Anaconda3\\envs\\tensorflow-gpu\\lib\\site-packages\\h5py\\__init__.py:34: FutureWarning: Conversion of the second argument of issubdtype from `float` to `np.floating` is deprecated. In future, it will be treated as `np.float64 == np.dtype(float).type`.\n",
      "  from ._conv import register_converters as _register_converters\n"
     ]
    }
   ],
   "source": [
    "import matplotlib.pyplot as plt\n",
    "import tensorflow as tf\n",
    "import numpy as np\n",
    "from sklearn.metrics import confusion_matrix\n",
    "import math"
   ]
  },
  {
   "cell_type": "markdown",
   "metadata": {},
   "source": [
    "接下来，我们将会使用TensorFlow辅助函数来下载MNIST数据集："
   ]
  },
  {
   "cell_type": "code",
   "execution_count": 2,
   "metadata": {},
   "outputs": [
    {
     "name": "stdout",
     "output_type": "stream",
     "text": [
      "Extracting data/MNIST/train-images-idx3-ubyte.gz\n",
      "Extracting data/MNIST/train-labels-idx1-ubyte.gz\n",
      "Extracting data/MNIST/t10k-images-idx3-ubyte.gz\n",
      "Extracting data/MNIST/t10k-labels-idx1-ubyte.gz\n"
     ]
    }
   ],
   "source": [
    "from tensorflow.examples.tutorials.mnist import input_data\n",
    "mnist = input_data.read_data_sets('data/MNIST/',one_hot = True)"
   ]
  },
  {
   "cell_type": "markdown",
   "metadata": {},
   "source": [
    "这个数据集将会被分成三个互不相关的数据集：训练集，验证集，测试集。所以，我们打印下各个数据集中图片的数量"
   ]
  },
  {
   "cell_type": "code",
   "execution_count": 3,
   "metadata": {},
   "outputs": [
    {
     "name": "stdout",
     "output_type": "stream",
     "text": [
      "- Number of images in the training set:\t\t55000\n",
      "- Number of images in the test set:\t\t10000\n",
      "- Number of images in the validation set:\t5000\n"
     ]
    }
   ],
   "source": [
    "print('- Number of images in the training set:\\t\\t{}'.format(len(mnist.train.labels)))\n",
    "print('- Number of images in the test set:\\t\\t{}'.format(len(mnist.test.labels)))\n",
    "print('- Number of images in the validation set:\\t{}'.format(len(mnist.validation.labels)))"
   ]
  },
  {
   "cell_type": "markdown",
   "metadata": {},
   "source": [
    "数据集中图片的真是标签都是被存储为one-hot格式的，所以我们有一个含有10个值的数组，而其中类的索引就是对应图片上的数字。为了之后的使用，我们需要将数据集中的类转换成整型数字："
   ]
  },
  {
   "cell_type": "code",
   "execution_count": 4,
   "metadata": {
    "collapsed": true
   },
   "outputs": [],
   "source": [
    "mnist.test.cls_integer = np.argmax(mnist.test.labels,axis = 1)"
   ]
  },
  {
   "cell_type": "markdown",
   "metadata": {},
   "source": [
    "再定义一些等下在实例中使用的变量："
   ]
  },
  {
   "cell_type": "code",
   "execution_count": 5,
   "metadata": {
    "collapsed": true
   },
   "outputs": [],
   "source": [
    "# MNIST数据集中图片的默认尺寸\n",
    "image_size = 28\n",
    "\n",
    "# 每个图片都被存为跟这个尺寸一样的向量\n",
    "image_size_flat = image_size*image_size\n",
    "\n",
    "# 每个图片的形状\n",
    "image_shape = (image_size,image_size)\n",
    "\n",
    "# 在MNIST数据集中的所有图片的色度都是1，也就是只有黑白两种颜色\n",
    "num_channels = 1\n",
    "\n",
    "# 在MNIST数据集中的数据类是从0到9的10个数据类\n",
    "num_classes = 10\n",
    "\n",
    "# 进行卷积操作时，第一次卷积步骤时的滤镜尺寸\n",
    "filter_size_1 = 5\n",
    "\n",
    "# 进行卷积操作时，第一次卷积步骤时的滤镜数量\n",
    "filters_1 = 16\n",
    "\n",
    "# 进行卷积操作时，第一次卷积步骤时的滤镜尺寸\n",
    "filter_size_2 = 5\n",
    "\n",
    "# 进行卷积操作时，第一次卷积步骤时的滤镜数量\n",
    "filters_2 = 36\n",
    "\n",
    "# 进行卷积操作时，第一次卷积步骤时的输出神经元个数\n",
    "fc_num_neurons = 128"
   ]
  },
  {
   "cell_type": "markdown",
   "metadata": {},
   "source": [
    "接下来，我们需要定义一个辅助函数来显示MNIST数据集中的图片。这个辅助函数将会把图片绘画在有9个子图的网格中：\n"
   ]
  },
  {
   "cell_type": "code",
   "execution_count": 6,
   "metadata": {
    "collapsed": true
   },
   "outputs": [],
   "source": [
    "def plot_imgs(imgs,cls_actual,cls_predicted = None):\n",
    "    assert len(imgs) == len(cls_actual) == 9\n",
    "    \n",
    "    # 创建有9个子图的图像来绘画图片\n",
    "    fig,axes = plt.subplots(3,3)\n",
    "    fig.subplots_adjust(hspace = 0.3,wspace = 0.3)\n",
    "\n",
    "    for i,ax in enumerate(axes.flat):\n",
    "        \n",
    "        # 在第i个位置绘画图片\n",
    "        ax.imshow(imgs[i].reshape(image_shape),cmap = 'binary')\n",
    "        \n",
    "        # 用图片的真实值和预测的类来对图片进行贴标签\n",
    "        if cls_predicted is None:\n",
    "            xlabel = 'True:{0}'.format(cls_actual[i])\n",
    "        else:\n",
    "            xlabel = 'True:{0},Pred:{1}'.format(cls_actual[i],cls_predicted[i])\n",
    "        ax.set_xlabel(xlabel)\n",
    "        # 移除图像上的刻度\n",
    "        ax.set_yticks([])\n",
    "        ax.set_xticks([])\n",
    "        # 将类显示为x轴的标签\n",
    "\n",
    "    plt.show()"
   ]
  },
  {
   "cell_type": "markdown",
   "metadata": {},
   "source": [
    "我们从测试集中取出图片来进行绘画，然后看一下它是什么样子："
   ]
  },
  {
   "cell_type": "code",
   "execution_count": 7,
   "metadata": {},
   "outputs": [
    {
     "data": {
      "image/png": "[encoded data removed]",
      "text/plain": [
       "<matplotlib.figure.Figure at 0x23b6e226eb8>"
      ]
     },
     "metadata": {},
     "output_type": "display_data"
    }
   ],
   "source": [
    "# 从测试集中取出9个图片进行可视化\n",
    "imgs = mnist.test.images[0:9]\n",
    "\n",
    "# 得到测试集中的9个图片所对应的真实类\n",
    "cls_actual = mnist.test.cls_integer[0:9]\n",
    "\n",
    "# 绘画\n",
    "plot_imgs(imgs = imgs,cls_actual = cls_actual)"
   ]
  },
  {
   "cell_type": "markdown",
   "metadata": {
    "collapsed": true
   },
   "source": [
    "结果正如上面所显示的。"
   ]
  },
  {
   "cell_type": "markdown",
   "metadata": {},
   "source": [
    "### 建立模型"
   ]
  },
  {
   "cell_type": "markdown",
   "metadata": {},
   "source": [
    "现在是时候来建立模型的核心部分了，这个计算图包含了所有在这一章提到的层。我们将以定义函数为开始，而这些函数将会被用于定义特定形状的变量，并且会随机初始化它们：\n"
   ]
  },
  {
   "cell_type": "code",
   "execution_count": 8,
   "metadata": {
    "collapsed": true
   },
   "outputs": [],
   "source": [
    "def new_weights(shape):\n",
    "    return tf.Variable(tf.truncated_normal(shape,stddev = 0.05))\n",
    "\n",
    "def new_biases(length):\n",
    "    return tf.Variable(tf.constant(0.05,shape = [length]))"
   ]
  },
  {
   "cell_type": "markdown",
   "metadata": {},
   "source": [
    "现在，我们将会定义一个函数，这个函数将会基于输入的层、图像通道、滤镜大小、滤镜的数量、是否使用池化参数等来创建卷积层："
   ]
  },
  {
   "cell_type": "code",
   "execution_count": 9,
   "metadata": {
    "collapsed": true
   },
   "outputs": [],
   "source": [
    "# input是之前层的输出\n",
    "def conv_layer(inputs,input_channels,filter_size,filters,use_pooling=True):\n",
    "    # 在这里使用了2*2的最大池化\n",
    "\n",
    "    #准备输入张量能接受的结构\n",
    "    shape = [filter_size,filter_size,input_channels,filters]\n",
    "\n",
    "    # 创建权重，而这就意味着滤镜要具有给定的结构\n",
    "    filter_weights = new_weights(shape = shape)\n",
    "\n",
    "    # 为每一个滤镜都创建偏差值\n",
    "    filters_biases = new_biases(length = filters)\n",
    "\n",
    "    # 正如我们上面所解释的那牙膏，在这里我们调用conv2d函数\n",
    "    # 同时里面的步长（strides）参数中有四个值，\n",
    "    # 第一个是指图片的数量，最后一个是指的图像的通道数，中间两个代表着滤镜移动的像素数\n",
    "    conv_layer = tf.nn.conv2d(input = inputs,\n",
    "                              filter = filter_weights,\n",
    "                              strides = [1,1,1,1],\n",
    "                              padding = 'SAME')\n",
    "\n",
    "    # 对conv_layer的输出结果增加偏差\n",
    "    conv_layer += filters_biases\n",
    "\n",
    "    # 用池化操作来降低图片的分辨率\n",
    "    if use_pooling:\n",
    "        # 用最大池化层来减小特征地图的输出结果\n",
    "        pool_layer = tf.nn.max_pool(value = conv_layer,\n",
    "                                    ksize = [1,2,2,1],\n",
    "                                    strides = [1,2,2,1],\n",
    "                                    padding = 'SAME')\n",
    "\n",
    "    # 将输出的结果提供给ReLU激活函数\n",
    "    relu_layer = tf.nn.relu(pool_layer)\n",
    "\n",
    "    # 在应用过relu和滤镜权重后，返回最终结果\n",
    "    return relu_layer,filter_weights"
   ]
  },
  {
   "cell_type": "markdown",
   "metadata": {},
   "source": [
    "正如我们先前提到的，池化层会生成一个四维的张量。我们需要把这个四维张量压平层一个两维的，然后将结果提供给完全连接的神经网络："
   ]
  },
  {
   "cell_type": "code",
   "execution_count": 10,
   "metadata": {
    "collapsed": true
   },
   "outputs": [],
   "source": [
    "def flatten_layers(layer):\n",
    "    # 获取图层的形状\n",
    "    shape = layer.get_shape()\n",
    "\n",
    "    # 我们需要将具有跟[num_images,image_height,image_width,num_channels]\n",
    "    #具有相同形状的图层进行压平处理，然后我们就会有跟[batch_size,num_features]相同尺寸的数据，\n",
    "    # 而其中的num_features的尺寸是image_height*image_width*num_channels\n",
    "    num_features = shape[1:4].num_elements()\n",
    "\n",
    "    # 重塑图片，然后将其提供给完全连接的神经网络\n",
    "    flatten_layer = tf.reshape(layer,[-1,num_features])\n",
    "\n",
    "    # 将压平的图层和要素数量返回\n",
    "    return flatten_layer,num_features"
   ]
  },
  {
   "cell_type": "markdown",
   "metadata": {},
   "source": [
    "接下来的函数创建了一个完全连接神经网络，同时也假设输入的数据是一个两维的张量："
   ]
  },
  {
   "cell_type": "code",
   "execution_count": 11,
   "metadata": {
    "collapsed": true
   },
   "outputs": [],
   "source": [
    "# input 压平之后的输出结果\n",
    "# num_inputs 来自上一层的输入数量\n",
    "# num_outputs 输出的数量\n",
    "# use_relu 在结果中使用ReLU激活函数来移除其中的负值\n",
    "def fc_layer(inputs,num_inputs,num_outputs,use_relu = True):\n",
    "    # 为这一层的神经元创建权重\n",
    "    fc_weights = new_weights(shape = [num_inputs,num_outputs])\n",
    "    fc_biases = new_biases(length = num_outputs)\n",
    "\n",
    "    # 通过对输入的值和权重进行矩阵相乘然后再加上偏差，来计算这一层的值\n",
    "    fc_layer = tf.matmul(inputs,fc_weights) + fc_biases\n",
    "\n",
    "    # 如果使用ReLU激活函数的话\n",
    "    if use_relu:\n",
    "        relu_layer = tf.nn.relu(fc_layer)\n",
    "        return relu_layer\n",
    "    return fc_layer"
   ]
  },
  {
   "cell_type": "markdown",
   "metadata": {},
   "source": [
    "在建立模型前，先为输入的图像定义一个占位符，其中第一个参数是None，也就意味着可能是任意数量的图像："
   ]
  },
  {
   "cell_type": "code",
   "execution_count": 12,
   "metadata": {
    "collapsed": true
   },
   "outputs": [],
   "source": [
    "input_values = tf.placeholder(tf.float32,shape = [None,image_size_flat],\\\n",
    "                              name='input_values')"
   ]
  },
  {
   "cell_type": "markdown",
   "metadata": {},
   "source": [
    "正如我们之前提到的，我们需要输入到卷积步骤中的图片是需要一个四维的张量，所以我们需要把输入的图片重塑为下列的结构：\n",
    "\n",
    "[num_images,image_height,image_width,num_channels]\n",
    "\n",
    "所以，我们把输入的值进行重塑以满足下面的格式："
   ]
  },
  {
   "cell_type": "code",
   "execution_count": 13,
   "metadata": {
    "collapsed": true
   },
   "outputs": [],
   "source": [
    "input_image = tf.reshape(input_values,[-1,image_size,image_size,num_channels])"
   ]
  },
  {
   "cell_type": "markdown",
   "metadata": {},
   "source": [
    "接下来，我们需要另外再定义一个占位符来存储事实类，而这个类值是一个one-hot编码格式："
   ]
  },
  {
   "cell_type": "code",
   "execution_count": 14,
   "metadata": {
    "collapsed": true
   },
   "outputs": [],
   "source": [
    "y_actual = tf.placeholder(tf.float32,shape = [None,num_classes],name = 'y_actual')"
   ]
  },
  {
   "cell_type": "markdown",
   "metadata": {},
   "source": [
    "同时，我们也需要定义一个变量来存储真实类的真实值："
   ]
  },
  {
   "cell_type": "code",
   "execution_count": 15,
   "metadata": {
    "collapsed": true
   },
   "outputs": [],
   "source": [
    "y_actual_cls_integer = tf.argmax(y_actual,axis=1)"
   ]
  },
  {
   "cell_type": "markdown",
   "metadata": {
    "collapsed": true
   },
   "source": [
    "那么，接下来就是开始建立第一个卷积层："
   ]
  },
  {
   "cell_type": "code",
   "execution_count": 16,
   "metadata": {
    "collapsed": true
   },
   "outputs": [],
   "source": [
    "conv_layer_1,conv1_weights = conv_layer(inputs = input_image,\n",
    "                            input_channels = num_channels,\n",
    "                            filter_size = filter_size_1,\n",
    "                            filters = filters_1,\n",
    "                            use_pooling = True)"
   ]
  },
  {
   "cell_type": "markdown",
   "metadata": {},
   "source": [
    "我们来检查下第一个卷积层输出结果的具体形状："
   ]
  },
  {
   "cell_type": "code",
   "execution_count": 17,
   "metadata": {},
   "outputs": [
    {
     "data": {
      "text/plain": [
       "<tf.Tensor 'Relu:0' shape=(?, 14, 14, 16) dtype=float32>"
      ]
     },
     "execution_count": 17,
     "metadata": {},
     "output_type": "execute_result"
    }
   ],
   "source": [
    "conv_layer_1"
   ]
  },
  {
   "cell_type": "markdown",
   "metadata": {},
   "source": [
    "接下来，我们将创建第二个卷积网络，然后将第一个结果提交给它："
   ]
  },
  {
   "cell_type": "code",
   "execution_count": 18,
   "metadata": {
    "collapsed": true
   },
   "outputs": [],
   "source": [
    "conv_layer_2,conv2_weights = conv_layer(inputs = conv_layer_1,\n",
    "                            input_channels = filters_1,\n",
    "                            filter_size = filter_size_2,\n",
    "                            filters = filters_2,\n",
    "                            use_pooling=True)"
   ]
  },
  {
   "cell_type": "code",
   "execution_count": 19,
   "metadata": {},
   "outputs": [
    {
     "data": {
      "text/plain": [
       "<tf.Tensor 'Relu_1:0' shape=(?, 7, 7, 36) dtype=float32>"
      ]
     },
     "execution_count": 19,
     "metadata": {},
     "output_type": "execute_result"
    }
   ],
   "source": [
    "conv_layer_2"
   ]
  },
  {
   "cell_type": "markdown",
   "metadata": {},
   "source": [
    "在这里，我们需要第二次检查第二个的卷积层的输出结果，而其输出加过应该是(?,7,7,36),问号所代表的可以是任何数量的图像。\n",
    "\n",
    "接下来，我们需要把卷积层结果的四维张量处理成二维的，以便将结果提供给完全连接的神经网络：\n"
   ]
  },
  {
   "cell_type": "code",
   "execution_count": 20,
   "metadata": {
    "collapsed": true
   },
   "outputs": [],
   "source": [
    "flatten_layer,number_features = flatten_layers(conv_layer_2)"
   ]
  },
  {
   "cell_type": "markdown",
   "metadata": {},
   "source": [
    "我们需要再次检查一下平坦层输出结果的形状："
   ]
  },
  {
   "cell_type": "code",
   "execution_count": 21,
   "metadata": {},
   "outputs": [
    {
     "data": {
      "text/plain": [
       "<tf.Tensor 'Reshape_1:0' shape=(?, 1764) dtype=float32>"
      ]
     },
     "execution_count": 21,
     "metadata": {},
     "output_type": "execute_result"
    }
   ],
   "source": [
    "flatten_layer"
   ]
  },
  {
   "cell_type": "markdown",
   "metadata": {},
   "source": [
    "接下来，我们将创建一个完全连接层，并且将平坦层的结果提供给它。同时，我们也将完全连接层的结果用ReLU激活函数来处理，然后再提交给随后的完全连接层："
   ]
  },
  {
   "cell_type": "code",
   "execution_count": 22,
   "metadata": {
    "collapsed": true
   },
   "outputs": [],
   "source": [
    "fc_layer_1 = fc_layer(inputs = flatten_layer,\n",
    "                      num_inputs = number_features,\n",
    "                      num_outputs = fc_num_neurons,\n",
    "                      use_relu = True )"
   ]
  },
  {
   "cell_type": "markdown",
   "metadata": {},
   "source": [
    "我们还需要再次检查第一个完全连接层的输出结果的形状："
   ]
  },
  {
   "cell_type": "code",
   "execution_count": 23,
   "metadata": {},
   "outputs": [
    {
     "name": "stdout",
     "output_type": "stream",
     "text": [
      "Tensor(\"Relu_2:0\", shape=(?, 128), dtype=float32)\n"
     ]
    }
   ],
   "source": [
    "print(fc_layer_1)"
   ]
  },
  {
   "cell_type": "markdown",
   "metadata": {},
   "source": [
    "接下来，我们需要添加另一个完全连接层，这个完全连接层将会把第一个完全连接层的结果当作输入，而且为每个图像生成一个大小为10的数组，表示每个目标类的分数是正确的："
   ]
  },
  {
   "cell_type": "code",
   "execution_count": 24,
   "metadata": {
    "collapsed": true
   },
   "outputs": [],
   "source": [
    "fc_layer_2 = fc_layer(inputs = fc_layer_1,\n",
    "                      num_inputs = fc_num_neurons,\n",
    "                      num_outputs = num_classes,\n",
    "                      use_relu = False)"
   ]
  },
  {
   "cell_type": "code",
   "execution_count": 25,
   "metadata": {},
   "outputs": [
    {
     "name": "stdout",
     "output_type": "stream",
     "text": [
      "Tensor(\"add_3:0\", shape=(?, 10), dtype=float32)\n"
     ]
    }
   ],
   "source": [
    "print(fc_layer_2)"
   ]
  },
  {
   "cell_type": "markdown",
   "metadata": {},
   "source": [
    "接下来，我们将从第二个完全连接的层中对这些分数进行归一化，并将其提供给softmax激活函数，该函数将校准值压缩到介于0和1之间。"
   ]
  },
  {
   "cell_type": "code",
   "execution_count": 26,
   "metadata": {
    "collapsed": true
   },
   "outputs": [],
   "source": [
    "y_predicted = tf.nn.softmax(fc_layer_2)"
   ]
  },
  {
   "cell_type": "markdown",
   "metadata": {},
   "source": [
    "接着，我们需要用TensorFlow的argmax函数，来提取概率最大的那个目标类："
   ]
  },
  {
   "cell_type": "code",
   "execution_count": 27,
   "metadata": {
    "collapsed": true
   },
   "outputs": [],
   "source": [
    "y_predicted_cls_integer = tf.argmax(y_predicted,axis = 1)"
   ]
  },
  {
   "cell_type": "markdown",
   "metadata": {},
   "source": [
    "### 损失函数"
   ]
  },
  {
   "cell_type": "markdown",
   "metadata": {},
   "source": [
    "接下来，我们需要定义绩效指标，也就是交叉熵。如果预测是正确的话，那么交叉熵的值则为0："
   ]
  },
  {
   "cell_type": "code",
   "execution_count": 28,
   "metadata": {},
   "outputs": [
    {
     "name": "stdout",
     "output_type": "stream",
     "text": [
      "WARNING:tensorflow:From <ipython-input-28-95a4299d59ab>:2: softmax_cross_entropy_with_logits (from tensorflow.python.ops.nn_ops) is deprecated and will be removed in a future version.\n",
      "Instructions for updating:\n",
      "\n",
      "Future major versions of TensorFlow will allow gradients to flow\n",
      "into the labels input on backprop by default.\n",
      "\n",
      "See tf.nn.softmax_cross_entropy_with_logits_v2.\n",
      "\n"
     ]
    }
   ],
   "source": [
    "cross_entropy = tf.nn.softmax_cross_entropy_with_logits(logits = fc_layer_2,\n",
    "                                                        labels = y_actual)"
   ]
  },
  {
   "cell_type": "markdown",
   "metadata": {},
   "source": [
    "接着，我们需要平均从上一步得到的所有交叉熵值，以便能够在测试集上获得单一的性能指标："
   ]
  },
  {
   "cell_type": "code",
   "execution_count": 29,
   "metadata": {
    "collapsed": true
   },
   "outputs": [],
   "source": [
    "model_cost = tf.reduce_mean(cross_entropy)"
   ]
  },
  {
   "cell_type": "markdown",
   "metadata": {},
   "source": [
    "现在，我们有了一个需要被优化（最小化）的损失函数，所以我们将会用AdamOptimizer函数，这个函数是跟梯度下降类似，但是更加先进："
   ]
  },
  {
   "cell_type": "code",
   "execution_count": 30,
   "metadata": {
    "collapsed": true
   },
   "outputs": [],
   "source": [
    "model_optimizer = tf.train.AdamOptimizer(learning_rate = 1e-4).minimize(model_cost)"
   ]
  },
  {
   "cell_type": "markdown",
   "metadata": {},
   "source": [
    "### 性能指标"
   ]
  },
  {
   "cell_type": "markdown",
   "metadata": {},
   "source": [
    "为了展示输出的结果，我们会定义一个变量来检查预测的类和真实类是否相等："
   ]
  },
  {
   "cell_type": "code",
   "execution_count": 31,
   "metadata": {
    "collapsed": true
   },
   "outputs": [],
   "source": [
    "model_correct_prediction = tf.equal(y_predicted_cls_integer,y_actual_cls_integer)"
   ]
  },
  {
   "cell_type": "markdown",
   "metadata": {},
   "source": [
    "通过转换布尔值来计算模型精度，然后对它们求平均值以对正确分类的值求和："
   ]
  },
  {
   "cell_type": "code",
   "execution_count": 32,
   "metadata": {
    "collapsed": true
   },
   "outputs": [],
   "source": [
    "model_accuracy = tf.reduce_mean(tf.cast(model_correct_prediction,tf.float32))"
   ]
  },
  {
   "cell_type": "markdown",
   "metadata": {},
   "source": [
    "### 模型训练"
   ]
  },
  {
   "cell_type": "markdown",
   "metadata": {},
   "source": [
    "通过创建session变量来开始训练过程，而这个变量也将负责执行我们之前定义的计算图："
   ]
  },
  {
   "cell_type": "code",
   "execution_count": 33,
   "metadata": {
    "collapsed": true
   },
   "outputs": [],
   "source": [
    "session = tf.Session()"
   ]
  },
  {
   "cell_type": "markdown",
   "metadata": {},
   "source": [
    "同时，我们也需要初始化我们之前定义的变量："
   ]
  },
  {
   "cell_type": "code",
   "execution_count": 34,
   "metadata": {
    "collapsed": true
   },
   "outputs": [],
   "source": [
    "session.run(tf.global_variables_initializer())"
   ]
  },
  {
   "cell_type": "markdown",
   "metadata": {},
   "source": [
    "我们会批次提供图片数量来避免内存溢出："
   ]
  },
  {
   "cell_type": "code",
   "execution_count": 35,
   "metadata": {
    "collapsed": true
   },
   "outputs": [],
   "source": [
    "train_batch_size = 64"
   ]
  },
  {
   "cell_type": "markdown",
   "metadata": {},
   "source": [
    "在我们开始训练过程前，我们将会先定义一个辅助函数，通过迭代训练批来执行优化过程："
   ]
  },
  {
   "cell_type": "code",
   "execution_count": 36,
   "metadata": {},
   "outputs": [],
   "source": [
    "# 迭代优化的次数\n",
    "total_iterations = 0\n",
    "\n",
    "def optimize(num_iterations):\n",
    "    \n",
    "    # 将迭代次数变量进行全局更新\n",
    "\tglobal total_iterations\n",
    "\tfor i in range(total_iterations,total_iterations + num_iterations):\n",
    "\t\t\n",
    "\t\t# 为训练过程随机生成批次\n",
    "\t\t# input_batch包含从训练集中获取的图片，而y_actual_batch是所对应的图片的事实标签\n",
    "\t\tinput_batch,y_actual_batch = mnist.train.next_batch(train_batch_size)\n",
    "        \n",
    "\t\t# 将先前的值放在TensorFlow的dict格式中\n",
    "        # 以自动将它们分配给我们在上面定义的输入占位符。\n",
    "\t\tfeed_dict = {input_values:input_batch,y_actual:y_actual_batch}\n",
    "        \n",
    "\t\t# 接下来，我们将会在这个批次的图片上进行模型优化：\n",
    "\t\tsession.run(model_optimizer,feed_dict = feed_dict)\n",
    "        \n",
    "\t\t# 每进行100次迭代之后，打印训练状态：\n",
    "\t\tif i%100 == 0:\n",
    "            \n",
    "\t\t\t# 测量训练集的准确度\n",
    "\t\t\tacc_training_set = session.run(model_accuracy,feed_dict = feed_dict)\n",
    "\t\t\t# 打印训练集的准确度\n",
    "\t\t\tprint('Iteration:',\\\n",
    "                  '{0:> 6},Accuracy Over the training set:{1:>6.1%}'.format(i + 1,\\\n",
    "                                                                    acc_training_set))\n",
    "\t\t# 更新到目前执行迭代的次数 \n",
    "\ttotal_iterations += num_iterations\n",
    "\tprint(total_iterations)"
   ]
  },
  {
   "cell_type": "markdown",
   "metadata": {},
   "source": [
    "然后，我们将定义一些辅助函数来帮助我们进行模型结果的可视化，然后来看下哪些图片被模型错误的分类："
   ]
  },
  {
   "cell_type": "code",
   "execution_count": 37,
   "metadata": {
    "collapsed": true
   },
   "outputs": [],
   "source": [
    "def plot_errors(cls_predicted, correct):\n",
    "\t# cls_predicted是测试集中每个图像的预测类号的数组。\n",
    "    \n",
    "\t# 提取错误的图片\n",
    "\tincorrect = (correct == False)\n",
    "    \n",
    "\t# 从测试集中得到被模型错误分类的图片\n",
    "\timages = mnist.test.images[incorrect]\n",
    "    \n",
    "\t# 获取那些不正确图像的预测类\n",
    "\tcls_pred = cls_predicted[incorrect]\n",
    "    \n",
    "\t# 获取那些不正确图像的真实类\n",
    "\tcls_true = mnist.test.cls_integer[incorrect]\n",
    "    \n",
    "\t# 绘画9个图片\n",
    "\tplot_imgs(imgs = images[0:9],cls_actual = cls_true[0:9],\n",
    "              cls_predicted = cls_pred[0:9])"
   ]
  },
  {
   "cell_type": "markdown",
   "metadata": {},
   "source": [
    "我们还可以绘制预测结果与实际真实类别的混淆矩阵："
   ]
  },
  {
   "cell_type": "code",
   "execution_count": 38,
   "metadata": {
    "collapsed": true
   },
   "outputs": [],
   "source": [
    "def plot_confusionMatrix(cls_predicted):\n",
    "    \n",
    "\t# cls_predicted是测试集中每个图像的预测类号的数组。\n",
    "\t# 从测试集中获取真实类\n",
    "\tcls_actual = mnist.test.cls_integer\n",
    "    \n",
    "\t# 用sklearn来生成混淆矩阵\n",
    "\tconf_matrix = confusion_matrix(y_true = cls_actual,y_pred = cls_predicted)\n",
    "    \n",
    "\t# 打印矩阵\n",
    "\tprint(conf_matrix)\n",
    "    \n",
    "\t# 可视化混淆矩阵\n",
    "\tplt.matshow(conf_matrix)\n",
    "\tplt.colorbar()\n",
    "\ttick_marks = np.arange(num_classes)\n",
    "\tplt.xticks(tick_marks,range(num_classes))\n",
    "\tplt.yticks(tick_marks,range(num_classes))\n",
    "\tplt.xlabel('Predicted class')\n",
    "\tplt.ylabel('True class')\n",
    "    \n",
    "\t# 展示绘画\n",
    "\tplt.show()"
   ]
  },
  {
   "cell_type": "markdown",
   "metadata": {},
   "source": [
    "最后，我们将会定义一个辅助函数来帮助我们测量训练模型在测试集上的准确性："
   ]
  },
  {
   "cell_type": "code",
   "execution_count": 39,
   "metadata": {
    "collapsed": true
   },
   "outputs": [],
   "source": [
    "test_batch_size = 256\n",
    "def test_accuracy(show_errors = False,show_confusionMatrix = False):\n",
    "    \n",
    "\t# 图片的数量\n",
    "\tnumber_test = len(mnist.test.images)\n",
    "    \n",
    "\t#为测试集的预测类定义一个零数组，将以小批量数据来测量并存储它\n",
    "\tcls_predicted = np.zeros(shape = number_test,dtype = np.int)\n",
    "    \n",
    "\t# 用测试集中的批次来测量预测类，以索引0的批次为开始\n",
    "\ti = 0\n",
    "\twhile i < number_test:\n",
    "        \n",
    "\t\t#要处理的下一批的结束索引是j\n",
    "\t\tj = min(i + test_batch_size,number_test)\n",
    "        \n",
    "\t\t#从开始和结束索引之间获取测试集中的所有图像\n",
    "\t\tinput_images = mnist.test.images[i:j,:]\n",
    "        \n",
    "\t\t# 得到这些图片的真实标签值\n",
    "\t\tactual_labels = mnist.test.labels[i:j,:]\n",
    "        \n",
    "\t\t#使用输入占位符值的相应值创建feed-dict\n",
    "\t\tfeed_dict = {input_values:input_images,y_actual:actual_labels}\n",
    "\t\tcls_predicted[i:j] = session.run(y_predicted_cls_integer,feed_dict = feed_dict)\n",
    "        \n",
    "\t\t# 将下一批的开始设置为我们刚刚处理的j的结束\n",
    "\t\ti = j\n",
    "        \n",
    "\t#获取测试图像的实际类号\n",
    "\tcls_actual = mnist.test.cls_integer\n",
    "    \n",
    "\t# 检查模型的预测是否正确\n",
    "\tcorrect = (cls_actual == cls_predicted)\n",
    "    \n",
    "\t# 对正确样例进行求和\n",
    "\tcorrect_number_images = correct.sum()\n",
    "    \n",
    "\t#通过将正确的分类与测试集中的图像总数相除来测量精度\n",
    "\ttestset_accuracy = float(correct_number_images)/number_test\n",
    "    \n",
    "\t# 展示准确性\n",
    "\tprint('Accuracy on Test-Set:{0:.1%} ({1}/{2})'.format(testset_accuracy,\n",
    "                                              correct_number_images,number_test))\n",
    "    \n",
    "\t# 显示一些不正确的例子\n",
    "\tif show_errors:\n",
    "\t\tprint('Example errors:')\n",
    "\t\tplot_errors(cls_predicted = cls_predicted,correct = correct)\n",
    "        \n",
    "\t#显示测试集预测的混淆矩阵\n",
    "\tif show_confusionMatrix:\n",
    "\t\tprint('Confusion Matrix:')\n",
    "\t\tplot_confusionMatrix(cls_predicted = cls_predicted)"
   ]
  },
  {
   "cell_type": "markdown",
   "metadata": {},
   "source": [
    "我们在测试集上打印创建的模型的准确性，而不进行任何优化："
   ]
  },
  {
   "cell_type": "code",
   "execution_count": 40,
   "metadata": {},
   "outputs": [
    {
     "name": "stdout",
     "output_type": "stream",
     "text": [
      "Accuracy on Test-Set:7.1% (713/10000)\n"
     ]
    }
   ],
   "source": [
    "test_accuracy()"
   ]
  },
  {
   "cell_type": "markdown",
   "metadata": {},
   "source": [
    "让我们通过运行一次迭代的优化过程，了解优化过程实际上增强了模型功能，以将图像分类到正确的类："
   ]
  },
  {
   "cell_type": "code",
   "execution_count": 41,
   "metadata": {},
   "outputs": [
    {
     "name": "stdout",
     "output_type": "stream",
     "text": [
      "Iteration:      1,Accuracy Over the training set: 12.5%\n",
      "1\n"
     ]
    }
   ],
   "source": [
    "optimize(num_iterations = 1)"
   ]
  },
  {
   "cell_type": "markdown",
   "metadata": {},
   "source": [
    "现在，我们迭代10000次的来进行优化过程："
   ]
  },
  {
   "cell_type": "code",
   "execution_count": 42,
   "metadata": {},
   "outputs": [
    {
     "name": "stdout",
     "output_type": "stream",
     "text": [
      "Iteration:    101,Accuracy Over the training set: 45.3%\n",
      "Iteration:    201,Accuracy Over the training set: 75.0%\n",
      "Iteration:    301,Accuracy Over the training set: 84.4%\n",
      "Iteration:    401,Accuracy Over the training set: 85.9%\n",
      "Iteration:    501,Accuracy Over the training set: 92.2%\n",
      "Iteration:    601,Accuracy Over the training set: 90.6%\n",
      "Iteration:    701,Accuracy Over the training set: 93.8%\n",
      "Iteration:    801,Accuracy Over the training set: 89.1%\n",
      "Iteration:    901,Accuracy Over the training set: 87.5%\n",
      "Iteration:   1001,Accuracy Over the training set: 96.9%\n",
      "1001\n"
     ]
    }
   ],
   "source": [
    "optimize(num_iterations = 1000)"
   ]
  },
  {
   "cell_type": "markdown",
   "metadata": {},
   "source": [
    "现在，我们来检测模型将如何概括测试："
   ]
  },
  {
   "cell_type": "code",
   "execution_count": 43,
   "metadata": {},
   "outputs": [
    {
     "name": "stdout",
     "output_type": "stream",
     "text": [
      "Accuracy on Test-Set:92.5% (9250/10000)\n",
      "Example errors:\n"
     ]
    },
    {
     "data": {
      "image/png": "[encoded data removed]",
      "text/plain": [
       "<matplotlib.figure.Figure at 0x23b708dbac8>"
      ]
     },
     "metadata": {},
     "output_type": "display_data"
    },
    {
     "name": "stdout",
     "output_type": "stream",
     "text": [
      "Confusion Matrix:\n",
      "[[ 955    0    1    5    0    4   10    2    3    0]\n",
      " [   0 1106    2    7    0    2    5    0   13    0]\n",
      " [  12    2  928   28   15    1   13   17   16    0]\n",
      " [   2    2    6  971    0    5    0   12   11    1]\n",
      " [   1    2    3    2  926    1   17    3    3   24]\n",
      " [   8    1    2   65    5  781   20    2    7    1]\n",
      " [  10    3    2    3    8   17  913    0    2    0]\n",
      " [   0    9   21   14    5    1    0  956    1   21]\n",
      " [  11    4    5   68    9   19   10   12  829    7]\n",
      " [  10    5    8   22   35    7    0   34    3  885]]\n"
     ]
    },
    {
     "data": {
      "image/png": "[encoded data removed]",
      "text/plain": [
       "<matplotlib.figure.Figure at 0x23b708db278>"
      ]
     },
     "metadata": {},
     "output_type": "display_data"
    }
   ],
   "source": [
    "test_accuracy(show_errors = True,show_confusionMatrix = True)"
   ]
  },
  {
   "cell_type": "markdown",
   "metadata": {},
   "source": [
    "有趣的是，在使用基本卷积网络时，我们实际上在测试中获得了近93％的准确率。这个实现和结果向您展示了一个简单的卷积网络可以做什么。"
   ]
  },
  {
   "cell_type": "markdown",
   "metadata": {},
   "source": [
    "## 总结"
   ]
  },
  {
   "cell_type": "markdown",
   "metadata": {},
   "source": [
    "在这一章中，我们已经涵盖了TensorFlow中CNN直觉和技术细节。我们还看了一下如何在TensorFlow中实现CNN的基本架构。\n",
    "在下一章节，我们将会演示更高级的架构，可用于检测数据科学家广泛使用的图像数据集中的对象。我们还将看到CNN的美丽以及它们如果像人类那样在首次认识到物体的基本特征，然后在这之上构建更高级的语义特征来对它们进行分类。尽管，这些步骤在我们大脑中进行的很快，而这的确是我们在辨认物体时所发生的。"
   ]
  }
 ],
 "metadata": {
  "kernelspec": {
   "display_name": "Python 3",
   "language": "python",
   "name": "python3"
  },
  "language_info": {
   "codemirror_mode": {
    "name": "ipython",
    "version": 3
   },
   "file_extension": ".py",
   "mimetype": "text/x-python",
   "name": "python",
   "nbconvert_exporter": "python",
   "pygments_lexer": "ipython3",
   "version": "3.5.3"
  }
 },
 "nbformat": 4,
 "nbformat_minor": 2
}
